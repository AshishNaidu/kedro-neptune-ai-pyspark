{
 "cells": [
  {
   "cell_type": "code",
   "execution_count": 2,
   "id": "feebc95d-7ac7-4ccd-82bf-79d8d427d79c",
   "metadata": {},
   "outputs": [
    {
     "data": {
      "text/html": [
       "<pre style=\"white-space:pre;overflow-x:auto;line-height:normal;font-family:Menlo,'DejaVu Sans Mono',consolas,'Courier New',monospace\"></pre>\n"
      ],
      "text/plain": []
     },
     "metadata": {},
     "output_type": "display_data"
    },
    {
     "data": {
      "text/plain": [
       "\n",
       "\u001b[1m[\u001b[0m\n",
       "    \u001b[32m'__class__'\u001b[0m,\n",
       "    \u001b[32m'__contains__'\u001b[0m,\n",
       "    \u001b[32m'__delattr__'\u001b[0m,\n",
       "    \u001b[32m'__dict__'\u001b[0m,\n",
       "    \u001b[32m'__dir__'\u001b[0m,\n",
       "    \u001b[32m'__doc__'\u001b[0m,\n",
       "    \u001b[32m'__eq__'\u001b[0m,\n",
       "    \u001b[32m'__format__'\u001b[0m,\n",
       "    \u001b[32m'__ge__'\u001b[0m,\n",
       "    \u001b[32m'__getattribute__'\u001b[0m,\n",
       "    \u001b[32m'__gt__'\u001b[0m,\n",
       "    \u001b[32m'__hash__'\u001b[0m,\n",
       "    \u001b[32m'__init__'\u001b[0m,\n",
       "    \u001b[32m'__init_subclass__'\u001b[0m,\n",
       "    \u001b[32m'__le__'\u001b[0m,\n",
       "    \u001b[32m'__lt__'\u001b[0m,\n",
       "    \u001b[32m'__module__'\u001b[0m,\n",
       "    \u001b[32m'__ne__'\u001b[0m,\n",
       "    \u001b[32m'__new__'\u001b[0m,\n",
       "    \u001b[32m'__reduce__'\u001b[0m,\n",
       "    \u001b[32m'__reduce_ex__'\u001b[0m,\n",
       "    \u001b[32m'__repr__'\u001b[0m,\n",
       "    \u001b[32m'__setattr__'\u001b[0m,\n",
       "    \u001b[32m'__sizeof__'\u001b[0m,\n",
       "    \u001b[32m'__str__'\u001b[0m,\n",
       "    \u001b[32m'__subclasshook__'\u001b[0m,\n",
       "    \u001b[32m'__weakref__'\u001b[0m,\n",
       "    \u001b[32m'_dataset_patterns'\u001b[0m,\n",
       "    \u001b[32m'_datasets'\u001b[0m,\n",
       "    \u001b[32m'_default_pattern'\u001b[0m,\n",
       "    \u001b[32m'_get_dataset'\u001b[0m,\n",
       "    \u001b[32m'_is_pattern'\u001b[0m,\n",
       "    \u001b[32m'_load_versions'\u001b[0m,\n",
       "    \u001b[32m'_logger'\u001b[0m,\n",
       "    \u001b[32m'_match_pattern'\u001b[0m,\n",
       "    \u001b[32m'_resolve_config'\u001b[0m,\n",
       "    \u001b[32m'_save_version'\u001b[0m,\n",
       "    \u001b[32m'_sort_patterns'\u001b[0m,\n",
       "    \u001b[32m'_specificity'\u001b[0m,\n",
       "    \u001b[32m'add'\u001b[0m,\n",
       "    \u001b[32m'add_all'\u001b[0m,\n",
       "    \u001b[32m'add_feed_dict'\u001b[0m,\n",
       "    \u001b[32m'confirm'\u001b[0m,\n",
       "    \u001b[32m'datasets'\u001b[0m,\n",
       "    \u001b[32m'exists'\u001b[0m,\n",
       "    \u001b[32m'from_config'\u001b[0m,\n",
       "    \u001b[32m'list'\u001b[0m,\n",
       "    \u001b[32m'load'\u001b[0m,\n",
       "    \u001b[32m'release'\u001b[0m,\n",
       "    \u001b[32m'save'\u001b[0m,\n",
       "    \u001b[32m'shallow_copy'\u001b[0m\n",
       "\u001b[1m]\u001b[0m"
      ]
     },
     "execution_count": 2,
     "metadata": {},
     "output_type": "execute_result"
    }
   ],
   "source": [
    "dir(catalog)"
   ]
  },
  {
   "cell_type": "code",
   "execution_count": 3,
   "id": "168cbaa6-3548-42ec-beef-4f861b545b0f",
   "metadata": {},
   "outputs": [
    {
     "data": {
      "text/html": [
       "<pre style=\"white-space:pre;overflow-x:auto;line-height:normal;font-family:Menlo,'DejaVu Sans Mono',consolas,'Courier New',monospace\"></pre>\n"
      ],
      "text/plain": []
     },
     "metadata": {},
     "output_type": "display_data"
    },
    {
     "data": {
      "text/plain": [
       "\n",
       "\u001b[1;35mKedroContext\u001b[0m\u001b[1m(\u001b[0m\n",
       "    \u001b[33mproject_path\u001b[0m=\u001b[1;35mWindowsPath\u001b[0m\u001b[1m(\u001b[0m\u001b[32m'C:/Training/kedro/neptune-ai-pyspark'\u001b[0m\u001b[1m)\u001b[0m,\n",
       "    \u001b[33mconfig_loader\u001b[0m=\u001b[1;35mOmegaConfigLoader\u001b[0m\u001b[1m(\u001b[0m\u001b[33mconf_source\u001b[0m=\u001b[35mC\u001b[0m:\\Training\\kedro\\neptune-ai-pyspark\\conf, \u001b[33menv\u001b[0m=\u001b[3;35mNone\u001b[0m, \u001b[33mconfig_patterns\u001b[0m=\u001b[1m{\u001b[0m\u001b[32m'catalog'\u001b[0m: \u001b[1m[\u001b[0m\u001b[32m'catalog*'\u001b[0m, \u001b[32m'catalog*/**'\u001b[0m, \u001b[32m'**/catalog*'\u001b[0m\u001b[1m]\u001b[0m, \u001b[32m'parameters'\u001b[0m: \u001b[1m[\u001b[0m\u001b[32m'parameters*'\u001b[0m, \u001b[32m'parameters*/**'\u001b[0m, \u001b[32m'**/parameters*'\u001b[0m\u001b[1m]\u001b[0m, \u001b[32m'credentials'\u001b[0m: \u001b[1m[\u001b[0m\u001b[32m'credentials*'\u001b[0m, \u001b[32m'credentials*/**'\u001b[0m, \u001b[32m'**/credentials*'\u001b[0m\u001b[1m]\u001b[0m, \u001b[32m'globals'\u001b[0m: \u001b[1m[\u001b[0m\u001b[32m'globals.yml'\u001b[0m\u001b[1m]\u001b[0m, \u001b[32m'spark'\u001b[0m: \u001b[1m<\u001b[0m\u001b[1;95mBoxList:\u001b[0m\u001b[39m \u001b[0m\u001b[1;39m[\u001b[0m\u001b[32m'spark*'\u001b[0m\u001b[39m, \u001b[0m\u001b[32m'spark*/**'\u001b[0m\u001b[1;39m]\u001b[0m\u001b[39m>\u001b[0m\u001b[1;39m}\u001b[0m\u001b[1;39m)\u001b[0m\u001b[39m,\u001b[0m\n",
       "\u001b[39m    \u001b[0m\u001b[33menv\u001b[0m\u001b[39m=\u001b[0m\u001b[3;35mNone\u001b[0m\u001b[39m,\u001b[0m\n",
       "\u001b[39m    \u001b[0m\u001b[33m_package_name\u001b[0m\u001b[39m=\u001b[0m\u001b[3;35mNone\u001b[0m\u001b[39m,\u001b[0m\n",
       "\u001b[39m    \u001b[0m\u001b[33m_hook_manager\u001b[0m\u001b[39m=<pluggy._manager.PluginManager object at \u001b[0m\u001b[1;36m0x000001804E63A5E0\u001b[0m\u001b[1m>\u001b[0m,\n",
       "    \u001b[33m_extra_params\u001b[0m=\u001b[3;35mNone\u001b[0m\n",
       "\u001b[1m)\u001b[0m"
      ]
     },
     "execution_count": 3,
     "metadata": {},
     "output_type": "execute_result"
    }
   ],
   "source": [
    "context"
   ]
  },
  {
   "cell_type": "code",
   "execution_count": 4,
   "id": "11e633e3-0797-46af-82b3-9c87560544a6",
   "metadata": {},
   "outputs": [
    {
     "data": {
      "text/html": [
       "<pre style=\"white-space:pre;overflow-x:auto;line-height:normal;font-family:Menlo,'DejaVu Sans Mono',consolas,'Courier New',monospace\"></pre>\n"
      ],
      "text/plain": []
     },
     "metadata": {},
     "output_type": "display_data"
    },
    {
     "data": {
      "text/plain": [
       "\n",
       "\u001b[1m{\u001b[0m\u001b[32m'__default__'\u001b[0m: \u001b[1;35mPipeline\u001b[0m\u001b[1m(\u001b[0m\u001b[1m[\u001b[0m\n",
       "\u001b[1;35mNode\u001b[0m\u001b[1m(\u001b[0mhandle_missing_data, \u001b[32m'raw_credit_card_txns'\u001b[0m, \u001b[32m'int_credit_card_txns_missing_data_handled'\u001b[0m, \u001b[32m'handle_missing_data_node'\u001b[0m\u001b[1m)\u001b[0m,\n",
       "\u001b[1;35mNode\u001b[0m\u001b[1m(\u001b[0mone_hot_encoding, \u001b[32m'int_credit_card_txns_missing_data_handled'\u001b[0m, \u001b[32m'int_credit_card_txns_one_hot_encoded'\u001b[0m, \u001b[32m'one_hot_encoding_node'\u001b[0m\u001b[1m)\u001b[0m,\n",
       "\u001b[1;35mNode\u001b[0m\u001b[1m(\u001b[0mbinning, \u001b[32m'int_credit_card_txns_one_hot_encoded'\u001b[0m, \u001b[32m'int_credit_card_txns_binned'\u001b[0m, \u001b[32m'binning_node'\u001b[0m\u001b[1m)\u001b[0m,\n",
       "\u001b[1;35mNode\u001b[0m\u001b[1m(\u001b[0mfeature_scaling, \u001b[32m'int_credit_card_txns_binned'\u001b[0m, \u001b[32m'int_credit_card_txns_feature_scaled'\u001b[0m, \u001b[32m'feature_scaling_node'\u001b[0m\u001b[1m)\u001b[0m,\n",
       "\u001b[1;35mNode\u001b[0m\u001b[1m(\u001b[0mfeature_creation, \u001b[32m'int_credit_card_txns_feature_scaled'\u001b[0m, \u001b[32m'feature_credit_card_txns'\u001b[0m, \u001b[32m'feature_creation_node'\u001b[0m\u001b[1m)\u001b[0m\n",
       "\u001b[1m]\u001b[0m\u001b[1m)\u001b[0m, \u001b[32m'data_engineering'\u001b[0m: \u001b[1;35mPipeline\u001b[0m\u001b[1m(\u001b[0m\u001b[1m[\u001b[0m\n",
       "\u001b[1;35mNode\u001b[0m\u001b[1m(\u001b[0mhandle_missing_data, \u001b[32m'raw_credit_card_txns'\u001b[0m, \u001b[32m'int_credit_card_txns_missing_data_handled'\u001b[0m, \u001b[32m'handle_missing_data_node'\u001b[0m\u001b[1m)\u001b[0m,\n",
       "\u001b[1;35mNode\u001b[0m\u001b[1m(\u001b[0mone_hot_encoding, \u001b[32m'int_credit_card_txns_missing_data_handled'\u001b[0m, \u001b[32m'int_credit_card_txns_one_hot_encoded'\u001b[0m, \u001b[32m'one_hot_encoding_node'\u001b[0m\u001b[1m)\u001b[0m,\n",
       "\u001b[1;35mNode\u001b[0m\u001b[1m(\u001b[0mbinning, \u001b[32m'int_credit_card_txns_one_hot_encoded'\u001b[0m, \u001b[32m'int_credit_card_txns_binned'\u001b[0m, \u001b[32m'binning_node'\u001b[0m\u001b[1m)\u001b[0m,\n",
       "\u001b[1;35mNode\u001b[0m\u001b[1m(\u001b[0mfeature_scaling, \u001b[32m'int_credit_card_txns_binned'\u001b[0m, \u001b[32m'int_credit_card_txns_feature_scaled'\u001b[0m, \u001b[32m'feature_scaling_node'\u001b[0m\u001b[1m)\u001b[0m,\n",
       "\u001b[1;35mNode\u001b[0m\u001b[1m(\u001b[0mfeature_creation, \u001b[32m'int_credit_card_txns_feature_scaled'\u001b[0m, \u001b[32m'feature_credit_card_txns'\u001b[0m, \u001b[32m'feature_creation_node'\u001b[0m\u001b[1m)\u001b[0m\n",
       "\u001b[1m]\u001b[0m\u001b[1m)\u001b[0m, \u001b[32m'data_science'\u001b[0m: \u001b[1;35mPipeline\u001b[0m\u001b[1m(\u001b[0m\u001b[1m[\u001b[0m\u001b[1m]\u001b[0m\u001b[1m)\u001b[0m, \u001b[32m'model_evaluation'\u001b[0m: \u001b[1;35mPipeline\u001b[0m\u001b[1m(\u001b[0m\u001b[1m[\u001b[0m\u001b[1m]\u001b[0m\u001b[1m)\u001b[0m\u001b[1m}\u001b[0m"
      ]
     },
     "execution_count": 4,
     "metadata": {},
     "output_type": "execute_result"
    }
   ],
   "source": [
    "pipelines"
   ]
  },
  {
   "cell_type": "code",
   "execution_count": 5,
   "id": "2e9597df-06da-42d6-9d53-f642ceb25a09",
   "metadata": {},
   "outputs": [
    {
     "data": {
      "text/html": [
       "<pre style=\"white-space:pre;overflow-x:auto;line-height:normal;font-family:Menlo,'DejaVu Sans Mono',consolas,'Courier New',monospace\"></pre>\n"
      ],
      "text/plain": []
     },
     "metadata": {},
     "output_type": "display_data"
    },
    {
     "data": {
      "text/plain": [
       "\n",
       "\u001b[1m{\u001b[0m\n",
       "    \u001b[32m'feature_credit_card_txns'\u001b[0m,\n",
       "    \u001b[32m'int_credit_card_txns_feature_scaled'\u001b[0m,\n",
       "    \u001b[32m'int_credit_card_txns_missing_data_handled'\u001b[0m,\n",
       "    \u001b[32m'int_credit_card_txns_one_hot_encoded'\u001b[0m,\n",
       "    \u001b[32m'int_credit_card_txns_binned'\u001b[0m\n",
       "\u001b[1m}\u001b[0m"
      ]
     },
     "execution_count": 5,
     "metadata": {},
     "output_type": "execute_result"
    }
   ],
   "source": [
    "pipelines[\"__default__\"].all_outputs()\n"
   ]
  },
  {
   "cell_type": "code",
   "execution_count": 7,
   "id": "71fd1098-a52a-4c2f-901b-ab40ea7044d4",
   "metadata": {},
   "outputs": [
    {
     "data": {
      "text/html": [
       "<pre style=\"white-space:pre;overflow-x:auto;line-height:normal;font-family:Menlo,'DejaVu Sans Mono',consolas,'Courier New',monospace\"><span style=\"color: #7fbfbf; text-decoration-color: #7fbfbf\">[08/01/24 11:59:53] </span><span style=\"color: #000080; text-decoration-color: #000080\">INFO    </span> Loading node definition from                                           <a href=\"file://C:\\ProgramData\\anaconda3\\envs\\pyspark-env\\lib\\site-packages\\kedro\\ipython\\__init__.py\" target=\"_blank\"><span style=\"color: #7f7f7f; text-decoration-color: #7f7f7f\">__init__.py</span></a><span style=\"color: #7f7f7f; text-decoration-color: #7f7f7f\">:</span><a href=\"file://C:\\ProgramData\\anaconda3\\envs\\pyspark-env\\lib\\site-packages\\kedro\\ipython\\__init__.py#352\" target=\"_blank\"><span style=\"color: #7f7f7f; text-decoration-color: #7f7f7f\">352</span></a>\n",
       "<span style=\"color: #7fbfbf; text-decoration-color: #7fbfbf\">                    </span>         C:\\Training\\kedro\\neptune-ai-pyspark\\src\\neptune_ai_pyspark\\pipelines\\ <span style=\"color: #7f7f7f; text-decoration-color: #7f7f7f\">               </span>\n",
       "<span style=\"color: #7fbfbf; text-decoration-color: #7fbfbf\">                    </span>         data_engineering\\nodes.py                                              <span style=\"color: #7f7f7f; text-decoration-color: #7f7f7f\">               </span>\n",
       "</pre>\n"
      ],
      "text/plain": [
       "\u001b[2;36m[08/01/24 11:59:53]\u001b[0m\u001b[2;36m \u001b[0m\u001b[34mINFO    \u001b[0m Loading node definition from                                           \u001b]8;id=367373;file://C:\\ProgramData\\anaconda3\\envs\\pyspark-env\\lib\\site-packages\\kedro\\ipython\\__init__.py\u001b\\\u001b[2m__init__.py\u001b[0m\u001b]8;;\u001b\\\u001b[2m:\u001b[0m\u001b]8;id=69862;file://C:\\ProgramData\\anaconda3\\envs\\pyspark-env\\lib\\site-packages\\kedro\\ipython\\__init__.py#352\u001b\\\u001b[2m352\u001b[0m\u001b]8;;\u001b\\\n",
       "\u001b[2;36m                    \u001b[0m         C:\\Training\\kedro\\neptune-ai-pyspark\\src\\neptune_ai_pyspark\\pipelines\\ \u001b[2m               \u001b[0m\n",
       "\u001b[2;36m                    \u001b[0m         data_engineering\\nodes.py                                              \u001b[2m               \u001b[0m\n"
      ]
     },
     "metadata": {},
     "output_type": "display_data"
    },
    {
     "data": {
      "text/html": [
       "<pre style=\"white-space:pre;overflow-x:auto;line-height:normal;font-family:Menlo,'DejaVu Sans Mono',consolas,'Courier New',monospace\"><span style=\"color: #800000; text-decoration-color: #800000\">╭─────────────────────────────── </span><span style=\"color: #800000; text-decoration-color: #800000; font-weight: bold\">Traceback </span><span style=\"color: #bf7f7f; text-decoration-color: #bf7f7f; font-weight: bold\">(most recent call last)</span><span style=\"color: #800000; text-decoration-color: #800000\"> ────────────────────────────────╮</span>\n",
       "<span style=\"color: #800000; text-decoration-color: #800000\">│</span> in <span style=\"color: #00ff00; text-decoration-color: #00ff00\">&lt;module&gt;</span>:<span style=\"color: #0000ff; text-decoration-color: #0000ff\">1</span>                                                                                    <span style=\"color: #800000; text-decoration-color: #800000\">│</span>\n",
       "<span style=\"color: #800000; text-decoration-color: #800000\">│</span>                                                                                                  <span style=\"color: #800000; text-decoration-color: #800000\">│</span>\n",
       "<span style=\"color: #800000; text-decoration-color: #800000\">│</span> <span style=\"color: #800000; text-decoration-color: #800000\">❱ </span>1 get_ipython().run_line_magic(<span style=\"color: #808000; text-decoration-color: #808000\">'load_node'</span>, <span style=\"color: #808000; text-decoration-color: #808000\">'handle_missing_data_node'</span>)                        <span style=\"color: #800000; text-decoration-color: #800000\">│</span>\n",
       "<span style=\"color: #800000; text-decoration-color: #800000\">│</span>   <span style=\"color: #7f7f7f; text-decoration-color: #7f7f7f\">2 </span>                                                                                             <span style=\"color: #800000; text-decoration-color: #800000\">│</span>\n",
       "<span style=\"color: #800000; text-decoration-color: #800000\">│</span>                                                                                                  <span style=\"color: #800000; text-decoration-color: #800000\">│</span>\n",
       "<span style=\"color: #800000; text-decoration-color: #800000\">│</span> <span style=\"color: #808000; text-decoration-color: #808000\">C:\\ProgramData\\anaconda3\\envs\\pyspark-env\\lib\\site-packages\\IPython\\core\\interactiveshell.py</span>:<span style=\"color: #0000ff; text-decoration-color: #0000ff\">245</span> <span style=\"color: #800000; text-decoration-color: #800000\">│</span>\n",
       "<span style=\"color: #800000; text-decoration-color: #800000\">│</span> <span style=\"color: #0000ff; text-decoration-color: #0000ff\">6</span> in <span style=\"color: #00ff00; text-decoration-color: #00ff00\">run_line_magic</span>                                                                              <span style=\"color: #800000; text-decoration-color: #800000\">│</span>\n",
       "<span style=\"color: #800000; text-decoration-color: #800000\">│</span>                                                                                                  <span style=\"color: #800000; text-decoration-color: #800000\">│</span>\n",
       "<span style=\"color: #800000; text-decoration-color: #800000\">│</span> <span style=\"color: #808000; text-decoration-color: #808000\">C:\\ProgramData\\anaconda3\\envs\\pyspark-env\\lib\\site-packages\\kedro\\ipython\\__init__.py</span>:<span style=\"color: #0000ff; text-decoration-color: #0000ff\">237</span> in     <span style=\"color: #800000; text-decoration-color: #800000\">│</span>\n",
       "<span style=\"color: #800000; text-decoration-color: #800000\">│</span> <span style=\"color: #00ff00; text-decoration-color: #00ff00\">magic_load_node</span>                                                                                  <span style=\"color: #800000; text-decoration-color: #800000\">│</span>\n",
       "<span style=\"color: #800000; text-decoration-color: #800000\">│</span>                                                                                                  <span style=\"color: #800000; text-decoration-color: #800000\">│</span>\n",
       "<span style=\"color: #800000; text-decoration-color: #800000\">│</span> <span style=\"color: #808000; text-decoration-color: #808000\">C:\\ProgramData\\anaconda3\\envs\\pyspark-env\\lib\\site-packages\\kedro\\ipython\\__init__.py</span>:<span style=\"color: #0000ff; text-decoration-color: #0000ff\">278</span> in     <span style=\"color: #800000; text-decoration-color: #800000\">│</span>\n",
       "<span style=\"color: #800000; text-decoration-color: #800000\">│</span> <span style=\"color: #00ff00; text-decoration-color: #00ff00\">_create_cell_with_text</span>                                                                           <span style=\"color: #800000; text-decoration-color: #800000\">│</span>\n",
       "<span style=\"color: #800000; text-decoration-color: #800000\">╰──────────────────────────────────────────────────────────────────────────────────────────────────╯</span>\n",
       "<span style=\"color: #ff0000; text-decoration-color: #ff0000; font-weight: bold\">ModuleNotFoundError: </span>No module named <span style=\"color: #008000; text-decoration-color: #008000\">'ipylab'</span>\n",
       "</pre>\n"
      ],
      "text/plain": [
       "\u001b[31m╭─\u001b[0m\u001b[31m──────────────────────────────\u001b[0m\u001b[31m \u001b[0m\u001b[1;31mTraceback \u001b[0m\u001b[1;2;31m(most recent call last)\u001b[0m\u001b[31m \u001b[0m\u001b[31m───────────────────────────────\u001b[0m\u001b[31m─╮\u001b[0m\n",
       "\u001b[31m│\u001b[0m in \u001b[92m<module>\u001b[0m:\u001b[94m1\u001b[0m                                                                                    \u001b[31m│\u001b[0m\n",
       "\u001b[31m│\u001b[0m                                                                                                  \u001b[31m│\u001b[0m\n",
       "\u001b[31m│\u001b[0m \u001b[31m❱ \u001b[0m1 get_ipython().run_line_magic(\u001b[33m'\u001b[0m\u001b[33mload_node\u001b[0m\u001b[33m'\u001b[0m, \u001b[33m'\u001b[0m\u001b[33mhandle_missing_data_node\u001b[0m\u001b[33m'\u001b[0m)                        \u001b[31m│\u001b[0m\n",
       "\u001b[31m│\u001b[0m   \u001b[2m2 \u001b[0m                                                                                             \u001b[31m│\u001b[0m\n",
       "\u001b[31m│\u001b[0m                                                                                                  \u001b[31m│\u001b[0m\n",
       "\u001b[31m│\u001b[0m \u001b[33mC:\\ProgramData\\anaconda3\\envs\\pyspark-env\\lib\\site-packages\\IPython\\core\\interactiveshell.py\u001b[0m:\u001b[94m245\u001b[0m \u001b[31m│\u001b[0m\n",
       "\u001b[31m│\u001b[0m \u001b[94m6\u001b[0m in \u001b[92mrun_line_magic\u001b[0m                                                                              \u001b[31m│\u001b[0m\n",
       "\u001b[31m│\u001b[0m                                                                                                  \u001b[31m│\u001b[0m\n",
       "\u001b[31m│\u001b[0m \u001b[33mC:\\ProgramData\\anaconda3\\envs\\pyspark-env\\lib\\site-packages\\kedro\\ipython\\__init__.py\u001b[0m:\u001b[94m237\u001b[0m in     \u001b[31m│\u001b[0m\n",
       "\u001b[31m│\u001b[0m \u001b[92mmagic_load_node\u001b[0m                                                                                  \u001b[31m│\u001b[0m\n",
       "\u001b[31m│\u001b[0m                                                                                                  \u001b[31m│\u001b[0m\n",
       "\u001b[31m│\u001b[0m \u001b[33mC:\\ProgramData\\anaconda3\\envs\\pyspark-env\\lib\\site-packages\\kedro\\ipython\\__init__.py\u001b[0m:\u001b[94m278\u001b[0m in     \u001b[31m│\u001b[0m\n",
       "\u001b[31m│\u001b[0m \u001b[92m_create_cell_with_text\u001b[0m                                                                           \u001b[31m│\u001b[0m\n",
       "\u001b[31m╰──────────────────────────────────────────────────────────────────────────────────────────────────╯\u001b[0m\n",
       "\u001b[1;91mModuleNotFoundError: \u001b[0mNo module named \u001b[32m'ipylab'\u001b[0m\n"
      ]
     },
     "metadata": {},
     "output_type": "display_data"
    }
   ],
   "source": [
    "%load_node handle_missing_data_node"
   ]
  },
  {
   "cell_type": "code",
   "execution_count": 8,
   "id": "bf39edc0-59ab-405c-b8dd-db3eba3209ff",
   "metadata": {},
   "outputs": [
    {
     "data": {
      "text/html": [
       "<pre style=\"white-space:pre;overflow-x:auto;line-height:normal;font-family:Menlo,'DejaVu Sans Mono',consolas,'Courier New',monospace\"></pre>\n"
      ],
      "text/plain": []
     },
     "metadata": {},
     "output_type": "display_data"
    },
    {
     "data": {
      "text/html": [
       "<a href=\"http://127.0.0.1:4141/\" target=\"_blank\">Open Kedro-Viz</a>"
      ],
      "text/plain": [
       "\u001b[1m<\u001b[0m\u001b[1;95mIPython.core.display.HTML\u001b[0m\u001b[39m object\u001b[0m\u001b[1m>\u001b[0m"
      ]
     },
     "metadata": {},
     "output_type": "display_data"
    }
   ],
   "source": [
    "%run_viz"
   ]
  },
  {
   "cell_type": "code",
   "execution_count": 9,
   "id": "dc319b96-5a14-459e-beca-687490eea715",
   "metadata": {},
   "outputs": [
    {
     "name": "stderr",
     "output_type": "stream",
     "text": [
      "'ls' is not recognized as an internal or external command,\n",
      "operable program or batch file.\n"
     ]
    }
   ],
   "source": [
    "\n"
   ]
  }
 ],
 "metadata": {
  "kernelspec": {
   "display_name": "Kedro (neptune_ai_pyspark)",
   "language": "python",
   "name": "kedro_neptune_ai_pyspark"
  },
  "language_info": {
   "codemirror_mode": {
    "name": "ipython",
    "version": 3
   },
   "file_extension": ".py",
   "mimetype": "text/x-python",
   "name": "python",
   "nbconvert_exporter": "python",
   "pygments_lexer": "ipython3",
   "version": "3.9.19"
  }
 },
 "nbformat": 4,
 "nbformat_minor": 5
}
