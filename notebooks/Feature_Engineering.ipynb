{
 "cells": [
  {
   "cell_type": "markdown",
   "id": "cc7a5a24-012f-4608-a909-fe802d9ec46f",
   "metadata": {},
   "source": [
    "__Feature engineering for credit card transactions data__\n"
   ]
  },
  {
   "cell_type": "code",
   "execution_count": 1,
   "id": "9f04a368-dde4-484c-977f-efed190101db",
   "metadata": {},
   "outputs": [
    {
     "data": {
      "text/html": [
       "<pre style=\"white-space:pre;overflow-x:auto;line-height:normal;font-family:Menlo,'DejaVu Sans Mono',consolas,'Courier New',monospace\"><span style=\"color: #7fbfbf; text-decoration-color: #7fbfbf\">                    </span><span style=\"color: #000080; text-decoration-color: #000080\">INFO    </span> Loading data from <span style=\"color: #ff8700; text-decoration-color: #ff8700\">raw_daily_data</span> <span style=\"font-weight: bold\">(</span>SparkDataset<span style=\"font-weight: bold\">)</span><span style=\"color: #808000; text-decoration-color: #808000\">...</span>                 <a href=\"file://C:\\ProgramData\\anaconda3\\envs\\pyspark-env\\lib\\site-packages\\kedro\\io\\data_catalog.py\" target=\"_blank\"><span style=\"color: #7f7f7f; text-decoration-color: #7f7f7f\">data_catalog.py</span></a><span style=\"color: #7f7f7f; text-decoration-color: #7f7f7f\">:</span><a href=\"file://C:\\ProgramData\\anaconda3\\envs\\pyspark-env\\lib\\site-packages\\kedro\\io\\data_catalog.py#508\" target=\"_blank\"><span style=\"color: #7f7f7f; text-decoration-color: #7f7f7f\">508</span></a>\n",
       "</pre>\n"
      ],
      "text/plain": [
       "\u001b[2;36m                   \u001b[0m\u001b[2;36m \u001b[0m\u001b[34mINFO    \u001b[0m Loading data from \u001b[38;5;208mraw_daily_data\u001b[0m \u001b[1m(\u001b[0mSparkDataset\u001b[1m)\u001b[0m\u001b[33m...\u001b[0m                 \u001b]8;id=39108;file://C:\\ProgramData\\anaconda3\\envs\\pyspark-env\\lib\\site-packages\\kedro\\io\\data_catalog.py\u001b\\\u001b[2mdata_catalog.py\u001b[0m\u001b]8;;\u001b\\\u001b[2m:\u001b[0m\u001b]8;id=661901;file://C:\\ProgramData\\anaconda3\\envs\\pyspark-env\\lib\\site-packages\\kedro\\io\\data_catalog.py#508\u001b\\\u001b[2m508\u001b[0m\u001b]8;;\u001b\\\n"
      ]
     },
     "metadata": {},
     "output_type": "display_data"
    },
    {
     "name": "stdout",
     "output_type": "stream",
     "text": [
      "root\n",
      " |-- TRANSACTION_ID: integer (nullable = true)\n",
      " |-- TX_DATETIME: timestamp (nullable = true)\n",
      " |-- CUSTOMER_ID: integer (nullable = true)\n",
      " |-- TERMINAL_ID: integer (nullable = true)\n",
      " |-- TX_AMOUNT: double (nullable = true)\n",
      " |-- TX_TIME_SECONDS: integer (nullable = true)\n",
      " |-- TX_TIME_DAYS: integer (nullable = true)\n",
      " |-- TX_FRAUD: integer (nullable = true)\n",
      " |-- TX_FRAUD_SCENARIO: integer (nullable = true)\n",
      " |-- TX_DURING_WEEKEND: integer (nullable = true)\n",
      " |-- TX_DURING_NIGHT: integer (nullable = true)\n",
      " |-- CUSTOMER_ID_NB_TX_1DAY_WINDOW: double (nullable = true)\n",
      " |-- CUSTOMER_ID_AVG_AMOUNT_1DAY_WINDOW: double (nullable = true)\n",
      " |-- CUSTOMER_ID_NB_TX_7DAY_WINDOW: double (nullable = true)\n",
      " |-- CUSTOMER_ID_AVG_AMOUNT_7DAY_WINDOW: double (nullable = true)\n",
      " |-- CUSTOMER_ID_NB_TX_30DAY_WINDOW: double (nullable = true)\n",
      " |-- CUSTOMER_ID_AVG_AMOUNT_30DAY_WINDOW: double (nullable = true)\n",
      " |-- TERMINAL_ID_NB_TX_1DAY_WINDOW: double (nullable = true)\n",
      " |-- TERMINAL_ID_RISK_1DAY_WINDOW: double (nullable = true)\n",
      " |-- TERMINAL_ID_NB_TX_7DAY_WINDOW: double (nullable = true)\n",
      " |-- TERMINAL_ID_RISK_7DAY_WINDOW: double (nullable = true)\n",
      " |-- TERMINAL_ID_NB_TX_30DAY_WINDOW: double (nullable = true)\n",
      " |-- TERMINAL_ID_RISK_30DAY_WINDOW: double (nullable = true)\n",
      "\n"
     ]
    },
    {
     "data": {
      "text/html": [
       "<pre style=\"white-space:pre;overflow-x:auto;line-height:normal;font-family:Menlo,'DejaVu Sans Mono',consolas,'Courier New',monospace\"></pre>\n"
      ],
      "text/plain": []
     },
     "metadata": {},
     "output_type": "display_data"
    },
    {
     "data": {
      "text/plain": [
       "\u001b[1;36m881360\u001b[0m"
      ]
     },
     "execution_count": 1,
     "metadata": {},
     "output_type": "execute_result"
    }
   ],
   "source": [
    "#########################\n",
    "# Read tx data in pyspark dataframe\n",
    "#########################\n",
    "\n",
    "df = catalog.load(\"raw_daily_data\")\n",
    "df.printSchema()\n",
    "df.count()"
   ]
  },
  {
   "cell_type": "code",
   "execution_count": 2,
   "id": "87844e10-b7b5-4480-a17e-e635ddcc66bb",
   "metadata": {
    "editable": true,
    "slideshow": {
     "slide_type": ""
    },
    "tags": [
     "node"
    ]
   },
   "outputs": [],
   "source": [
    "#########################\n",
    "# Function to handle missing data by filling with mean\n",
    "#########################\n",
    "\n",
    "import pyspark.sql.functions as F\n",
    "\n",
    "def handle_missing_data(df):\n",
    "    for column in df.columns:\n",
    "        if df.select(column).dtypes[0][1] in [\"int\", \"double\"]:\n",
    "            mean_value = df.select(F.mean(F.col(column))).collect()[0][0]\n",
    "            df = df.fillna(mean_value, subset=[column])\n",
    "    return df"
   ]
  },
  {
   "cell_type": "code",
   "execution_count": 3,
   "id": "f7a415a1-0511-4188-9839-b2ac085e24be",
   "metadata": {
    "editable": true,
    "slideshow": {
     "slide_type": ""
    },
    "tags": [
     "node"
    ]
   },
   "outputs": [],
   "source": [
    "#########################\n",
    "# Function for one-hot encoding\n",
    "#########################\n",
    "\n",
    "from pyspark.ml.feature import StringIndexer, OneHotEncoder\n",
    "from pyspark.ml import Pipeline\n",
    "\n",
    "def one_hot_encoding(df, input_col, output_col):\n",
    "    indexer = StringIndexer(inputCol=input_col, outputCol=f\"{input_col}_index\")\n",
    "    encoder = OneHotEncoder(inputCol=f\"{input_col}_index\", outputCol=output_col)\n",
    "    pipeline = Pipeline(stages=[indexer, encoder])\n",
    "    df = pipeline.fit(df).transform(df)\n",
    "    return df\n"
   ]
  },
  {
   "cell_type": "code",
   "execution_count": 4,
   "id": "a052af13-1623-4fd6-8d83-2952a4109509",
   "metadata": {
    "editable": true,
    "slideshow": {
     "slide_type": ""
    },
    "tags": [
     "node"
    ]
   },
   "outputs": [],
   "source": [
    "#########################\n",
    "# Function for binning or discretization\n",
    "#########################\n",
    "\n",
    "from pyspark.ml.feature import Bucketizer\n",
    "\n",
    "def binning(df, input_col, output_col, splits):\n",
    "    bucketizer = Bucketizer(splits=splits, inputCol=input_col, outputCol=output_col)\n",
    "    df = bucketizer.transform(df)\n",
    "    return df\n"
   ]
  },
  {
   "cell_type": "code",
   "execution_count": 5,
   "id": "6a50e067-8a60-4a80-88db-de487c6627b9",
   "metadata": {
    "editable": true,
    "slideshow": {
     "slide_type": ""
    },
    "tags": [
     "node"
    ]
   },
   "outputs": [],
   "source": [
    "#########################\n",
    "# Convert Column to Vector\n",
    "#########################\n",
    "\n",
    "from pyspark.ml.feature import VectorAssembler\n",
    "\n",
    "def vectorize_column(df, input_col, output_col):\n",
    "    assembler = VectorAssembler(inputCols=[input_col], outputCol=output_col)\n",
    "    df = assembler.transform(df)\n",
    "    return df\n"
   ]
  },
  {
   "cell_type": "code",
   "execution_count": 6,
   "id": "3b54b302-9861-4849-b7f0-9be121351717",
   "metadata": {
    "editable": true,
    "slideshow": {
     "slide_type": ""
    },
    "tags": [
     "node"
    ]
   },
   "outputs": [],
   "source": [
    "#########################\n",
    "# Function for feature scaling\n",
    "#########################\n",
    "\n",
    "from pyspark.ml.feature import StandardScaler\n",
    "\n",
    "def feature_scaling(df, input_col, output_col):\n",
    "    # Convert the column to a vector\n",
    "    vector_col = f\"{input_col}_vec\"\n",
    "    df = vectorize_column(df, input_col, vector_col)\n",
    "    \n",
    "    # Apply standard scaling\n",
    "    scaler = StandardScaler(inputCol=vector_col, outputCol=output_col)\n",
    "    scaler_model = scaler.fit(df)\n",
    "    df = scaler_model.transform(df)\n",
    "    return df\n",
    "\n"
   ]
  },
  {
   "cell_type": "code",
   "execution_count": 7,
   "id": "82017901-1ee7-4234-87df-bbc14dd9efb8",
   "metadata": {
    "editable": true,
    "slideshow": {
     "slide_type": ""
    },
    "tags": [
     "node"
    ]
   },
   "outputs": [],
   "source": [
    "#########################\n",
    "# Function for feature creation\n",
    "#########################\n",
    "\n",
    "import pyspark.sql.functions as F\n",
    "\n",
    "def feature_creation(df, input_col, output_col, threshold):\n",
    "    df = df.withColumn(output_col, F.when(F.col(input_col) > threshold, 1).otherwise(0))\n",
    "    return df\n",
    "\n"
   ]
  },
  {
   "cell_type": "code",
   "execution_count": 8,
   "id": "602538ce-0113-44a5-bc60-ed6375f3884f",
   "metadata": {
    "editable": true,
    "slideshow": {
     "slide_type": ""
    },
    "tags": []
   },
   "outputs": [
    {
     "name": "stdout",
     "output_type": "stream",
     "text": [
      "Handle missing data done!\n",
      "One-hot encoding done!\n",
      "Binning done!\n",
      "Feature scaling done!\n",
      "Feature creation done!\n",
      "+--------------+-------------------+-----------+-----------+---------+---------------+------------+--------+-----------------+-----------------+---------------+-----------------------------+----------------------------------+-----------------------------+----------------------------------+------------------------------+-----------------------------------+-----------------------------+----------------------------+-----------------------------+----------------------------+------------------------------+-----------------------------+-----------------------+---------------------+----------------+-------------+--------------------+-------------+\n",
      "|TRANSACTION_ID|        TX_DATETIME|CUSTOMER_ID|TERMINAL_ID|TX_AMOUNT|TX_TIME_SECONDS|TX_TIME_DAYS|TX_FRAUD|TX_FRAUD_SCENARIO|TX_DURING_WEEKEND|TX_DURING_NIGHT|CUSTOMER_ID_NB_TX_1DAY_WINDOW|CUSTOMER_ID_AVG_AMOUNT_1DAY_WINDOW|CUSTOMER_ID_NB_TX_7DAY_WINDOW|CUSTOMER_ID_AVG_AMOUNT_7DAY_WINDOW|CUSTOMER_ID_NB_TX_30DAY_WINDOW|CUSTOMER_ID_AVG_AMOUNT_30DAY_WINDOW|TERMINAL_ID_NB_TX_1DAY_WINDOW|TERMINAL_ID_RISK_1DAY_WINDOW|TERMINAL_ID_NB_TX_7DAY_WINDOW|TERMINAL_ID_RISK_7DAY_WINDOW|TERMINAL_ID_NB_TX_30DAY_WINDOW|TERMINAL_ID_RISK_30DAY_WINDOW|TX_FRAUD_SCENARIO_index|TX_FRAUD_SCENARIO_VEC|TX_AMOUNT_BINNED|TX_AMOUNT_vec|    TX_AMOUNT_SCALED|HIGH_VALUE_TX|\n",
      "+--------------+-------------------+-----------+-----------+---------+---------------+------------+--------+-----------------+-----------------+---------------+-----------------------------+----------------------------------+-----------------------------+----------------------------------+------------------------------+-----------------------------------+-----------------------------+----------------------------+-----------------------------+----------------------------+------------------------------+-----------------------------+-----------------------+---------------------+----------------+-------------+--------------------+-------------+\n",
      "|       1112024|2018-07-26 00:01:41|       3619|       6969|    42.97|       10022501|         116|       0|                0|                0|              1|                          1.0|                42.969999999999956|                          7.0|                53.667142857142736|                          38.0|                  51.25105263157892|                          1.0|                         0.0|                          4.0|                         0.0|                          21.0|                          0.0|                    0.0|        (3,[0],[1.0])|             1.0|      [42.97]|[1.0087799983664567]|            0|\n",
      "|       1112025|2018-07-26 00:02:58|       1037|       7562|    60.87|       10022578|         116|       0|                0|                0|              1|                          4.0|                50.847500000000025|                         20.0|                53.476499999999966|                         119.0|                  52.00033613445388|                          3.0|                         0.0|                          3.0|                         0.0|                          23.0|                          0.0|                    0.0|        (3,[0],[1.0])|             2.0|      [60.87]|[1.4290071794406844]|            1|\n",
      "|       1112026|2018-07-26 00:03:03|       4657|       6540|     18.6|       10022583|         116|       0|                0|                0|              1|                          3.0|                 34.65333333333334|                         18.0|                36.661666666666655|                          68.0|                  37.84470588235291|                          1.0|                         0.0|                          8.0|                        0.25|                          29.0|          0.06896551724137931|                    0.0|        (3,[0],[1.0])|             1.0|       [18.6]|[0.4366606462559017]|            0|\n",
      "|       1112027|2018-07-26 00:04:01|       3209|       8836|    90.94|       10022641|         116|       0|                0|                0|              1|                          3.0|                 69.69999999999996|                         17.0|                 55.22941176470582|                         101.0|                  54.06643564356438|                          0.0|                         0.0|                          2.0|                         0.0|                          15.0|                          0.0|                    0.0|        (3,[0],[1.0])|             2.0|      [90.94]|[2.1349418908877253]|            1|\n",
      "|       1112028|2018-07-26 00:04:57|       3281|       3396|    11.88|       10022697|         116|       0|                0|                0|              1|                          2.0|                6.3299999999999965|                          9.0|                 9.287777777777777|                          51.0|                 10.967058823529408|                          0.0|                         0.0|                          6.0|                         0.0|                          19.0|                          0.0|                    0.0|        (3,[0],[1.0])|             1.0|      [11.88]| [0.278899380511834]|            0|\n",
      "|       1112029|2018-07-26 00:06:10|       3114|       5289|    66.77|       10022770|         116|       0|                0|                0|              1|                          2.0|                 78.83000000000006|                         10.0|                 83.33799999999991|                          73.0|                 60.370000000000005|                          0.0|                         0.0|                          7.0|                         0.0|                          23.0|                          0.0|                    0.0|        (3,[0],[1.0])|             2.0|      [66.77]| [1.567517814543363]|            1|\n",
      "|       1112030|2018-07-26 00:06:36|       1932|       1137|    40.44|       10022796|         116|       0|                0|                0|              1|                          5.0|                 38.71000000000005|                         20.0|                 38.60699999999993|                          97.0|                  42.48247422680415|                          2.0|                         0.0|                          9.0|                         0.0|                          39.0|                          0.0|                    0.0|        (3,[0],[1.0])|             1.0|      [40.44]|[0.9493847599241216]|            0|\n",
      "|       1112031|2018-07-26 00:07:28|       1768|       2596|    56.92|       10022848|         116|       0|                0|                0|              1|                          7.0|                 53.09857142857145|                         16.0|                 51.31750000000001|                          61.0|                  53.18524590163936|                          0.0|                         0.0|                          5.0|                         0.0|                          22.0|                          0.0|                    0.0|        (3,[0],[1.0])|             2.0|      [56.92]| [1.336275483058383]|            1|\n",
      "|       1112032|2018-07-26 00:07:30|       2751|       1248|    22.57|       10022850|         116|       0|                0|                0|              1|                          4.0|                 36.61249999999997|                         21.0|                 66.97285714285704|                          85.0|                  76.57941176470591|                          1.0|                         0.0|                          8.0|                         0.0|                          33.0|                          0.0|                    0.0|        (3,[0],[1.0])|             1.0|      [22.57]|[0.5298618702148226]|            0|\n",
      "|       1112033|2018-07-26 00:08:08|        122|       7500|    50.02|       10022888|         116|       0|                0|                0|              1|                          4.0|                28.140000000000022|                         15.0|                 31.87666666666669|                          52.0|                  32.27269230769235|                          1.0|                         0.0|                          5.0|                         0.0|                          27.0|                          0.0|                    0.0|        (3,[0],[1.0])|             2.0|      [50.02]| [1.174288469124742]|            1|\n",
      "|       1112034|2018-07-26 00:09:08|       2473|       6187|    73.59|       10022948|         116|       0|                0|                0|              1|                          3.0|                 94.43666666666668|                          9.0|                 86.26777777777761|                          55.0|                  81.24145454545459|                          1.0|                         0.0|                          6.0|                         0.0|                          38.0|                          0.0|                    0.0|        (3,[0],[1.0])|             2.0|      [73.59]|[1.7276267181705272]|            1|\n",
      "|       1112035|2018-07-26 00:09:20|       3070|       1423|      5.4|       10022960|         116|       0|                0|                0|              1|                          7.0|                  40.3414285714285|                         22.0|                45.059545454545415|                          84.0|                  45.83619047619045|                          1.0|                         0.0|                          6.0|                         0.0|                          26.0|                          0.0|                    0.0|        (3,[0],[1.0])|             0.0|        [5.4]|[0.12677244568719...|            0|\n",
      "|       1112036|2018-07-26 00:09:51|       3206|       4265|    81.59|       10022991|         116|       0|                0|                0|              1|                          4.0|                58.117499999999914|                         13.0|                 75.92000000000006|                          64.0|                  67.58093749999999|                          0.0|                         0.0|                          5.0|                         0.0|                          19.0|                          0.0|                    0.0|        (3,[0],[1.0])|             2.0|      [81.59]|[1.9154377488182268]|            1|\n",
      "|       1112037|2018-07-26 00:09:53|        716|       8190|    38.95|       10022993|         116|       0|                0|                0|              1|                          5.0|                 36.59400000000005|                         32.0|                35.051249999999975|                         112.0|                 33.339196428571405|                          2.0|                         0.0|                          6.0|                         0.0|                          23.0|                          0.0|                    0.0|        (3,[0],[1.0])|             1.0|      [38.95]|[0.9144049554659877]|            0|\n",
      "|       1112038|2018-07-26 00:10:59|       2494|       1927|    25.89|       10023059|         116|       0|                0|                0|              1|                          6.0|                 63.75499999999993|                         28.0|                 73.71607142857142|                         115.0|                  76.80347826086951|                          1.0|                         0.0|                          7.0|                         0.0|                          24.0|                          0.0|                    0.0|        (3,[0],[1.0])|             1.0|      [25.89]| [0.607803447933618]|            0|\n",
      "|       1112039|2018-07-26 00:12:17|       2275|       2020|    14.36|       10023137|         116|       0|                0|                0|              1|                          5.0|                13.541999999999996|                         25.0|                           10.5808|                          78.0|                 10.855384615384612|                          1.0|                         0.0|                          8.0|                         0.0|                          34.0|                          0.0|                    0.0|        (3,[0],[1.0])|             1.0|      [14.36]|[0.33712080001262...|            0|\n",
      "|       1112040|2018-07-26 00:12:21|       4869|       4407|     9.64|       10023141|         116|       0|                0|                0|              1|                          3.0|                 55.18000000000014|                         23.0|                  88.7286956521737|                          88.0|                  78.41522727272725|                          0.0|                         0.0|                          9.0|                         0.0|                          37.0|                          0.0|                    0.0|        (3,[0],[1.0])|             0.0|       [9.64]|[0.22631229193047...|            0|\n",
      "|       1112041|2018-07-26 00:12:28|       4471|        812|     2.46|       10023148|         116|       0|                0|                0|              1|                          2.0|                23.025000000000034|                         20.0|                 38.01750000000002|                          59.0|                  41.30694915254238|                          0.0|                         0.0|                          8.0|                         0.0|                          35.0|                          0.0|                    0.0|        (3,[0],[1.0])|             0.0|       [2.46]|[0.05775189192416...|            0|\n",
      "|       1112042|2018-07-26 00:12:42|       3422|       4873|    28.35|       10023162|         116|       0|                0|                0|              1|                          4.0|                33.895000000000046|                         25.0|                 38.67399999999996|                         111.0|                   38.5181081081081|                          2.0|                         0.0|                         10.0|                         0.0|                          42.0|                          0.0|                    0.0|        (3,[0],[1.0])|             1.0|      [28.35]|[0.6655553398577856]|            0|\n",
      "|       1112043|2018-07-26 00:12:45|       3459|       3372|    73.37|       10023165|         116|       0|                0|                0|              1|                          6.0|                 64.19499999999998|                         13.0|                 64.69307692307689|                          50.0|                            56.5932|                          2.0|                         0.0|                         10.0|                         0.0|                          37.0|                          0.0|                    0.0|        (3,[0],[1.0])|             2.0|      [73.37]|[1.7224619148277154]|            1|\n",
      "+--------------+-------------------+-----------+-----------+---------+---------------+------------+--------+-----------------+-----------------+---------------+-----------------------------+----------------------------------+-----------------------------+----------------------------------+------------------------------+-----------------------------------+-----------------------------+----------------------------+-----------------------------+----------------------------+------------------------------+-----------------------------+-----------------------+---------------------+----------------+-------------+--------------------+-------------+\n",
      "only showing top 20 rows\n",
      "\n"
     ]
    }
   ],
   "source": [
    "# Handle missing data\n",
    "df = handle_missing_data(df)\n",
    "print(\"Handle missing data done!\")\n",
    "\n",
    "# One-hot encoding for 'TX_FRAUD_SCENARIO'\n",
    "df = one_hot_encoding(df, input_col=\"TX_FRAUD_SCENARIO\", output_col=\"TX_FRAUD_SCENARIO_VEC\")\n",
    "print(\"One-hot encoding done!\")\n",
    "\n",
    "# Binning for 'TX_AMOUNT'\n",
    "splits = [-float(\"inf\"), 10, 50, 100, float(\"inf\")]\n",
    "df = binning(df, input_col=\"TX_AMOUNT\", output_col=\"TX_AMOUNT_BINNED\", splits=splits)\n",
    "print(\"Binning done!\")\n",
    "\n",
    "# Feature scaling for 'TX_AMOUNT'\n",
    "df = feature_scaling(df, input_col=\"TX_AMOUNT\", output_col=\"TX_AMOUNT_SCALED\")\n",
    "print(\"Feature scaling done!\")\n",
    "\n",
    "# Feature creation for high value transactions\n",
    "df = feature_creation(df, input_col=\"TX_AMOUNT\", output_col=\"HIGH_VALUE_TX\", threshold=50)\n",
    "print(\"Feature creation done!\")\n",
    "\n",
    "# Show the resulting dataframe\n",
    "df.show()\n"
   ]
  },
  {
   "cell_type": "code",
   "execution_count": 12,
   "id": "22617c42-60fd-4740-98dd-6f002c54d0c0",
   "metadata": {
    "editable": true,
    "slideshow": {
     "slide_type": ""
    },
    "tags": []
   },
   "outputs": [
    {
     "data": {
      "text/html": [
       "<pre style=\"white-space:pre;overflow-x:auto;line-height:normal;font-family:Menlo,'DejaVu Sans Mono',consolas,'Courier New',monospace\"></pre>\n"
      ],
      "text/plain": []
     },
     "metadata": {},
     "output_type": "display_data"
    },
    {
     "data": {
      "text/plain": [
       "\u001b[1m{\u001b[0m\u001b[32m'__default__'\u001b[0m: \u001b[1;35mPipeline\u001b[0m\u001b[1m(\u001b[0m\u001b[1m[\u001b[0m\u001b[1m]\u001b[0m\u001b[1m)\u001b[0m, \u001b[32m'data_engineering'\u001b[0m: \u001b[1;35mPipeline\u001b[0m\u001b[1m(\u001b[0m\u001b[1m[\u001b[0m\u001b[1m]\u001b[0m\u001b[1m)\u001b[0m, \u001b[32m'data_science'\u001b[0m: \u001b[1;35mPipeline\u001b[0m\u001b[1m(\u001b[0m\u001b[1m[\u001b[0m\u001b[1m]\u001b[0m\u001b[1m)\u001b[0m, \u001b[32m'model_evaluation'\u001b[0m: \u001b[1;35mPipeline\u001b[0m\u001b[1m(\u001b[0m\u001b[1m[\u001b[0m\u001b[1m]\u001b[0m\u001b[1m)\u001b[0m\u001b[1m}\u001b[0m"
      ]
     },
     "execution_count": 12,
     "metadata": {},
     "output_type": "execute_result"
    }
   ],
   "source": [
    "pipelines"
   ]
  }
 ],
 "metadata": {
  "kernelspec": {
   "display_name": "Kedro (neptune_ai_pyspark)",
   "language": "python",
   "name": "kedro_neptune_ai_pyspark"
  },
  "language_info": {
   "codemirror_mode": {
    "name": "ipython",
    "version": 3
   },
   "file_extension": ".py",
   "mimetype": "text/x-python",
   "name": "python",
   "nbconvert_exporter": "python",
   "pygments_lexer": "ipython3",
   "version": "3.9.19"
  }
 },
 "nbformat": 4,
 "nbformat_minor": 5
}
